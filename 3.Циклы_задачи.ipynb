{
 "cells": [
  {
   "cell_type": "markdown",
   "metadata": {},
   "source": [
    "# Циклы"
   ]
  },
  {
   "cell_type": "markdown",
   "metadata": {},
   "source": [
    "1) С помощью цикла for сравнить две произвольные строки и вывести строку, состоящую из общих символов исходных строк."
   ]
  },
  {
   "cell_type": "code",
   "execution_count": 4,
   "metadata": {},
   "outputs": [
    {
     "name": "stdout",
     "output_type": "stream",
     "text": [
      "sdfcxeqr\n"
     ]
    }
   ],
   "source": [
    "a = \"asdfcxbcbewqerc\"\n",
    "b = \"2qergvcxzgfds\"\n",
    "c = \"\"\n",
    "for i in a:\n",
    "    if i in b and i not in c:\n",
    "        c += i\n",
    "print(c)"
   ]
  },
  {
   "cell_type": "markdown",
   "metadata": {},
   "source": [
    "2) С помощью цикла while ассчитать двойной факториал для произвольного числа. Двойной факториал *n!!* числа n рассчитывается как произведение всех чисел, меньших исходного на числа, кратные двум (вплоть до 1 или 2). Например: 7!! = 7 \\* 5 \\* 3 \\* 1 = 105"
   ]
  },
  {
   "cell_type": "code",
   "execution_count": 8,
   "metadata": {},
   "outputs": [
    {
     "name": "stdout",
     "output_type": "stream",
     "text": [
      "Введите число: 7\n",
      "105\n"
     ]
    }
   ],
   "source": [
    "n = int(input(\"Введите число: \"))\n",
    "result = 1\n",
    "while n>=1:\n",
    "    result *= n\n",
    "    n -= 2\n",
    "print(result)"
   ]
  },
  {
   "cell_type": "markdown",
   "metadata": {},
   "source": [
    "3) Решить предыдущую задачу с помощью цикла for."
   ]
  },
  {
   "cell_type": "markdown",
   "metadata": {},
   "source": [
    "4) Вывести все простые числа в произвольном интервале [a, b], используя вложенные for и конструкцию for-else."
   ]
  },
  {
   "cell_type": "markdown",
   "metadata": {},
   "source": [
    "5) Реализовать проверку на ввод вводимого пользователем значения: предлагать ввод до тех пор, пока не будет введена непустая строка. Если введено STOP, выводить сообщение \"Program interrupted by user\". Если введенная строка в лексиграфическом порядке стоит перед строчными латинскими символами, выводить предупреждение \"Too early in the dictionary. Try again!\" и предлагать ввод снова. Иначе выводить отформатированную исходную строку с заполнителем \"_\" и шириной 30 символов с выравниванием посередине."
   ]
  },
  {
   "cell_type": "markdown",
   "metadata": {},
   "source": [
    "6) Для произвольной строки вывести те символы, номера которых в строке (не индексы!) делят длину строки без остатка. Для строки \"Hello world!\" должно выводиться \"Hell !\"."
   ]
  },
  {
   "cell_type": "markdown",
   "metadata": {},
   "source": [
    "7) Даны две произвольные строки. Для всех символов первой строки, которые встречаются во второй строке (без учета регистра), вывести строку: \"<номер\\_символа\\_в\\_первой\\_строке> встречается в строке поиска: <второе_слово>\", причем второе слово выводить в нижнем регистре с найденным символом в верхнем регистре. Например, для исходной строки \"Hello world!\" и строки поиска 'HERD' третья строка в выводе будет содержать текст:<br> \"9 символ встречается в строке поиска: heRd\"."
   ]
  }
 ],
 "metadata": {
  "kernelspec": {
   "display_name": "Python 3",
   "language": "python",
   "name": "python3"
  },
  "language_info": {
   "codemirror_mode": {
    "name": "ipython",
    "version": 3
   },
   "file_extension": ".py",
   "mimetype": "text/x-python",
   "name": "python",
   "nbconvert_exporter": "python",
   "pygments_lexer": "ipython3",
   "version": "3.6.5"
  }
 },
 "nbformat": 4,
 "nbformat_minor": 2
}
